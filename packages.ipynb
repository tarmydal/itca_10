{
 "cells": [
  {
   "attachments": {},
   "cell_type": "markdown",
   "id": "0db5ef41-3cb8-49fb-b88b-4578089ae855",
   "metadata": {},
   "source": [
    "# **Python Packages**"
   ]
  },
  {
   "cell_type": "markdown",
   "id": "e20da772-ef4b-4e9d-b586-5c87380832e4",
   "metadata": {
    "jp-MarkdownHeadingCollapsed": true
   },
   "source": [
    "### pkg/\n",
    "### ├── mod1.py\n",
    "### └── mod2.py"
   ]
  },
  {
   "cell_type": "markdown",
   "id": "cf548885-d934-4a87-907a-c9dbeef9d938",
   "metadata": {},
   "source": [
    "## !!!"
   ]
  },
  {
   "cell_type": "code",
   "execution_count": 1,
   "id": "d55d205d-ebc7-4e64-8930-c6eb95d9cbc9",
   "metadata": {},
   "outputs": [],
   "source": [
    "import pkg"
   ]
  },
  {
   "cell_type": "code",
   "execution_count": 2,
   "id": "29b1972e-1708-4ff4-bef9-1800d3f74692",
   "metadata": {},
   "outputs": [
    {
     "data": {
      "text/plain": [
       "<module 'pkg' from 'W:\\\\Python3\\\\itca_10\\\\pkg\\\\__init__.py'>"
      ]
     },
     "execution_count": 2,
     "metadata": {},
     "output_type": "execute_result"
    }
   ],
   "source": [
    "pkg"
   ]
  },
  {
   "cell_type": "code",
   "execution_count": 3,
   "id": "ae58eec3-5b91-41d6-b0fe-d30558741c3a",
   "metadata": {},
   "outputs": [
    {
     "ename": "AttributeError",
     "evalue": "module 'pkg' has no attribute 'mod1'",
     "output_type": "error",
     "traceback": [
      "\u001b[1;31m---------------------------------------------------------------------------\u001b[0m",
      "\u001b[1;31mAttributeError\u001b[0m                            Traceback (most recent call last)",
      "Cell \u001b[1;32mIn[3], line 1\u001b[0m\n\u001b[1;32m----> 1\u001b[0m \u001b[43mpkg\u001b[49m\u001b[38;5;241;43m.\u001b[39;49m\u001b[43mmod1\u001b[49m\n",
      "\u001b[1;31mAttributeError\u001b[0m: module 'pkg' has no attribute 'mod1'"
     ]
    }
   ],
   "source": [
    "pkg.mod1"
   ]
  },
  {
   "cell_type": "code",
   "execution_count": 4,
   "id": "8a0787c5-bb81-47e1-9d55-86e58c1fce44",
   "metadata": {},
   "outputs": [
    {
     "ename": "AttributeError",
     "evalue": "module 'pkg' has no attribute 'mod1'",
     "output_type": "error",
     "traceback": [
      "\u001b[1;31m---------------------------------------------------------------------------\u001b[0m",
      "\u001b[1;31mAttributeError\u001b[0m                            Traceback (most recent call last)",
      "Cell \u001b[1;32mIn[4], line 1\u001b[0m\n\u001b[1;32m----> 1\u001b[0m \u001b[43mpkg\u001b[49m\u001b[38;5;241;43m.\u001b[39;49m\u001b[43mmod1\u001b[49m\u001b[38;5;241m.\u001b[39mfoo()\n",
      "\u001b[1;31mAttributeError\u001b[0m: module 'pkg' has no attribute 'mod1'"
     ]
    }
   ],
   "source": [
    "pkg.mod1.foo()"
   ]
  },
  {
   "cell_type": "code",
   "execution_count": 12,
   "id": "34b373ef-b05a-4daf-9bda-0adee23e5791",
   "metadata": {},
   "outputs": [
    {
     "data": {
      "text/plain": [
       "['__builtins__',\n",
       " '__cached__',\n",
       " '__doc__',\n",
       " '__file__',\n",
       " '__loader__',\n",
       " '__name__',\n",
       " '__package__',\n",
       " '__path__',\n",
       " '__spec__',\n",
       " 'mod1',\n",
       " 'mod2']"
      ]
     },
     "execution_count": 12,
     "metadata": {},
     "output_type": "execute_result"
    }
   ],
   "source": [
    "dir(pkg)"
   ]
  },
  {
   "cell_type": "markdown",
   "id": "a1f9cd9e-f1f4-43b0-898c-044cb4afcf46",
   "metadata": {},
   "source": [
    "## import `<module_name>` [, `<module_name>` ...]"
   ]
  },
  {
   "cell_type": "code",
   "execution_count": 6,
   "id": "32af4b69-f64f-49dd-9cc3-953d79cba7ce",
   "metadata": {},
   "outputs": [],
   "source": [
    "import pkg.mod1, pkg.mod2"
   ]
  },
  {
   "cell_type": "code",
   "execution_count": 7,
   "id": "fa46cc4a-e13e-4ed8-a250-cf34c0c17b15",
   "metadata": {},
   "outputs": [
    {
     "name": "stdout",
     "output_type": "stream",
     "text": [
      "[mod1] foo()\n"
     ]
    }
   ],
   "source": [
    "pkg.mod1.foo()"
   ]
  },
  {
   "cell_type": "code",
   "execution_count": 8,
   "id": "a783495c-e4e6-4cd7-9a0e-913b6cb30d66",
   "metadata": {},
   "outputs": [
    {
     "name": "stdout",
     "output_type": "stream",
     "text": [
      "[mod2] bar()\n"
     ]
    }
   ],
   "source": [
    "pkg.mod2.bar()"
   ]
  },
  {
   "cell_type": "markdown",
   "id": "ed9d1a3b-cc77-42c5-bd85-62a069064edb",
   "metadata": {},
   "source": [
    "## from `<module_name>` import `<name(s)>`"
   ]
  },
  {
   "cell_type": "code",
   "execution_count": 13,
   "id": "738049f5-0443-4edc-ab0e-a58b17392104",
   "metadata": {},
   "outputs": [],
   "source": [
    "from pkg.mod1 import foo"
   ]
  },
  {
   "cell_type": "code",
   "execution_count": 14,
   "id": "ddcafa08-28d0-4c64-9f7d-d4788c1080be",
   "metadata": {},
   "outputs": [
    {
     "name": "stdout",
     "output_type": "stream",
     "text": [
      "[mod1] foo()\n"
     ]
    }
   ],
   "source": [
    "foo()"
   ]
  },
  {
   "cell_type": "markdown",
   "id": "8bc6ec42-e986-41b1-8077-e09b176e73c1",
   "metadata": {},
   "source": [
    "## from `<module_name>` import `<name>` as `<alt_name>`"
   ]
  },
  {
   "cell_type": "code",
   "execution_count": 15,
   "id": "37c26f1a-6022-4256-83c4-f95d265bc080",
   "metadata": {},
   "outputs": [],
   "source": [
    "from pkg.mod2 import bar as qux"
   ]
  },
  {
   "cell_type": "code",
   "execution_count": 16,
   "id": "d17bc529-4205-488f-a6df-e9989b563932",
   "metadata": {},
   "outputs": [
    {
     "name": "stdout",
     "output_type": "stream",
     "text": [
      "[mod2] bar()\n"
     ]
    }
   ],
   "source": [
    "qux()"
   ]
  },
  {
   "cell_type": "markdown",
   "id": "f358a74a-e95e-4988-8be1-95be09eecfa6",
   "metadata": {},
   "source": [
    "## from `<package_name>` import `<modules_name>`[, `<module_name>` ...]\n",
    "## from `<package_name>` import `<module_name>` as `<alt_name>`"
   ]
  },
  {
   "cell_type": "code",
   "execution_count": null,
   "id": "fd920d9a-e083-44d6-8999-ac6b36698054",
   "metadata": {},
   "outputs": [],
   "source": [
    "from pkg import mod1\n",
    "mod1.foo()"
   ]
  },
  {
   "cell_type": "code",
   "execution_count": 17,
   "id": "0f42a187-4997-453a-af9a-b718e92ec904",
   "metadata": {},
   "outputs": [
    {
     "name": "stdout",
     "output_type": "stream",
     "text": [
      "[mod2] bar()\n"
     ]
    }
   ],
   "source": [
    "from pkg import mod2 as quux\n",
    "quux.bar()"
   ]
  },
  {
   "cell_type": "markdown",
   "id": "166e794d-c280-46f7-8637-156c19844739",
   "metadata": {},
   "source": [
    "# **Package Initialization**"
   ]
  },
  {
   "cell_type": "markdown",
   "id": "7ed8eb25-5d87-4e2c-94da-6079c66f3926",
   "metadata": {},
   "source": [
    "### `__init__.py`"
   ]
  },
  {
   "cell_type": "code",
   "execution_count": 1,
   "id": "9cbd0de1-3481-4fd5-b1a8-541a05b6b1d3",
   "metadata": {},
   "outputs": [
    {
     "name": "stdout",
     "output_type": "stream",
     "text": [
      "Invoking __init__.py for pkg\n"
     ]
    }
   ],
   "source": [
    "import pkg"
   ]
  },
  {
   "cell_type": "code",
   "execution_count": 2,
   "id": "e3f49abd-b81b-433e-930a-e5378dd8744a",
   "metadata": {},
   "outputs": [
    {
     "name": "stdout",
     "output_type": "stream",
     "text": [
      "[mod1] foo()\n"
     ]
    }
   ],
   "source": [
    "pkg.mod1.foo()"
   ]
  },
  {
   "cell_type": "code",
   "execution_count": 3,
   "id": "63d734c8-9581-43c6-bfd5-848e4c4205d6",
   "metadata": {},
   "outputs": [
    {
     "name": "stdout",
     "output_type": "stream",
     "text": [
      "[mod2] bar()\n"
     ]
    }
   ],
   "source": [
    "pkg.mod2.bar()"
   ]
  },
  {
   "cell_type": "markdown",
   "id": "7ba86467-9661-4b49-8bcc-e5c585c11082",
   "metadata": {},
   "source": [
    "# **Importing `*` From a Package**"
   ]
  },
  {
   "cell_type": "markdown",
   "id": "5a08c9ec-da38-4b4f-a451-624d66ca5f0e",
   "metadata": {},
   "source": [
    "$\\color{red}{\\text{Reload!!!}}$"
   ]
  },
  {
   "cell_type": "code",
   "execution_count": null,
   "id": "43e04a07-28a6-4292-905b-3a8c4e779dc2",
   "metadata": {
    "jupyter": {
     "source_hidden": true
    }
   },
   "outputs": [],
   "source": [
    "dir()"
   ]
  },
  {
   "cell_type": "markdown",
   "id": "dfe97d02-3798-4593-be07-9c842ccdde46",
   "metadata": {
    "jp-MarkdownHeadingCollapsed": true
   },
   "source": [
    "$\\color{red}{\\text{insert}}$ `__all__` $\\color{red}{\\text{into}}$ `__init__.py`"
   ]
  },
  {
   "cell_type": "code",
   "execution_count": 1,
   "id": "7df8dd7e-fb94-4de8-9760-b16932ae8397",
   "metadata": {},
   "outputs": [],
   "source": [
    "from pkg import *"
   ]
  },
  {
   "cell_type": "code",
   "execution_count": null,
   "id": "cf98faf7-b160-44a0-8ea4-026d839ddbb6",
   "metadata": {},
   "outputs": [],
   "source": [
    "dir()"
   ]
  },
  {
   "cell_type": "code",
   "execution_count": 4,
   "id": "c489f858-3937-4bf0-a427-87ad60ddc11c",
   "metadata": {},
   "outputs": [
    {
     "ename": "AttributeError",
     "evalue": "module 'pkg.mod1' has no attribute 'bar'",
     "output_type": "error",
     "traceback": [
      "\u001b[1;31m---------------------------------------------------------------------------\u001b[0m",
      "\u001b[1;31mAttributeError\u001b[0m                            Traceback (most recent call last)",
      "Cell \u001b[1;32mIn[4], line 1\u001b[0m\n\u001b[1;32m----> 1\u001b[0m \u001b[43mmod1\u001b[49m\u001b[38;5;241;43m.\u001b[39;49m\u001b[43mbar\u001b[49m()\n",
      "\u001b[1;31mAttributeError\u001b[0m: module 'pkg.mod1' has no attribute 'bar'"
     ]
    }
   ],
   "source": [
    "mod2.bar()"
   ]
  },
  {
   "cell_type": "code",
   "execution_count": 5,
   "id": "a93bc9a3-2f17-4f25-9cf6-912e24ec9dfa",
   "metadata": {},
   "outputs": [
    {
     "name": "stdout",
     "output_type": "stream",
     "text": [
      "[mod1] foo()\n"
     ]
    }
   ],
   "source": [
    "mod1.foo()"
   ]
  },
  {
   "cell_type": "markdown",
   "id": "3418b0ea-e417-4d54-a29e-c3bb7b8742aa",
   "metadata": {},
   "source": [
    "$\\color{red}{\\text{insert}}$  `__all__ = ['foo']` $\\color{red}{\\text{into}}$  `mod1.py`"
   ]
  },
  {
   "cell_type": "code",
   "execution_count": 1,
   "id": "65f112df-c04c-4c33-abd9-bf24e2c4774e",
   "metadata": {},
   "outputs": [],
   "source": [
    "from pkg.mod1 import *"
   ]
  },
  {
   "cell_type": "code",
   "execution_count": 2,
   "id": "187bed3e-fd92-45d2-a177-0b9877982dca",
   "metadata": {},
   "outputs": [
    {
     "data": {
      "text/plain": [
       "['In',\n",
       " 'Out',\n",
       " '_',\n",
       " '__',\n",
       " '___',\n",
       " '__builtin__',\n",
       " '__builtins__',\n",
       " '__doc__',\n",
       " '__loader__',\n",
       " '__name__',\n",
       " '__package__',\n",
       " '__session__',\n",
       " '__spec__',\n",
       " '_dh',\n",
       " '_i',\n",
       " '_i1',\n",
       " '_i2',\n",
       " '_ih',\n",
       " '_ii',\n",
       " '_iii',\n",
       " '_oh',\n",
       " 'exit',\n",
       " 'foo',\n",
       " 'get_ipython',\n",
       " 'open',\n",
       " 'quit']"
      ]
     },
     "execution_count": 2,
     "metadata": {},
     "output_type": "execute_result"
    }
   ],
   "source": [
    "dir()"
   ]
  },
  {
   "cell_type": "code",
   "execution_count": null,
   "id": "38f42b3f-61e6-4677-8159-9e3f1911d4ae",
   "metadata": {},
   "outputs": [],
   "source": [
    "foo()"
   ]
  },
  {
   "cell_type": "code",
   "execution_count": null,
   "id": "906700da-832c-4886-9ca6-15c5ebb05239",
   "metadata": {},
   "outputs": [],
   "source": [
    "bar()"
   ]
  },
  {
   "cell_type": "markdown",
   "id": "00686795-db0c-4854-a1c3-b957b84eeb1f",
   "metadata": {},
   "source": [
    "```\n",
    "In summary, __all__ is used by both packages and modules to control what is imported when import * is specified. \n",
    "But the default behavior differs:\n",
    "\n",
    "For a package, when __all__ is not defined, import * does not import anything.\n",
    "For a module, when __all__ is not defined, import * imports everything (except—you guessed it—names starting with an underscore).\n",
    "```"
   ]
  },
  {
   "cell_type": "markdown",
   "id": "6c5499c3-612b-4fd7-be4c-08ca4106cf36",
   "metadata": {},
   "source": [
    "# **Subpackages**"
   ]
  },
  {
   "cell_type": "markdown",
   "id": "c62c4968-c661-4811-bf9c-c6568afcbc76",
   "metadata": {},
   "source": [
    "### pkg/\n",
    "### ├── sub_pkg1/\n",
    "### `    `├── mod1.py\n",
    "### `    `└── mod2.py\n",
    "### └── sub_pkg2/\n",
    "### `    `├── mod3.py\n",
    "### `    `└── mod4.py"
   ]
  },
  {
   "cell_type": "code",
   "execution_count": 3,
   "id": "eb6532e0-4e59-4fe3-b69c-ff13d8e516d5",
   "metadata": {},
   "outputs": [
    {
     "name": "stdout",
     "output_type": "stream",
     "text": [
      "[mod1] foo()\n"
     ]
    }
   ],
   "source": [
    "import pkg.sub_pkg1.mod1\n",
    "pkg.sub_pkg1.mod1.foo()"
   ]
  },
  {
   "cell_type": "code",
   "execution_count": 4,
   "id": "9574d53d-0c47-44ea-8c78-ee80eca8d28b",
   "metadata": {},
   "outputs": [
    {
     "name": "stdout",
     "output_type": "stream",
     "text": [
      "[mod2] bar()\n"
     ]
    }
   ],
   "source": [
    "from pkg.sub_pkg1 import mod2\n",
    "mod2.bar()"
   ]
  },
  {
   "cell_type": "code",
   "execution_count": 5,
   "id": "118f6529-090f-42ea-9c91-026ebe2aee71",
   "metadata": {},
   "outputs": [
    {
     "name": "stdout",
     "output_type": "stream",
     "text": [
      "[mod3] baz()\n"
     ]
    }
   ],
   "source": [
    "from pkg.sub_pkg2.mod3 import baz\n",
    "baz()"
   ]
  },
  {
   "cell_type": "code",
   "execution_count": 6,
   "id": "24474d60-e787-4250-909f-30eb3903e40b",
   "metadata": {},
   "outputs": [
    {
     "name": "stdout",
     "output_type": "stream",
     "text": [
      "[mod4] qux()\n"
     ]
    }
   ],
   "source": [
    "from pkg.sub_pkg2.mod4 import qux as grault\n",
    "grault()"
   ]
  },
  {
   "cell_type": "markdown",
   "id": "376405c7-aab6-414e-8714-591f90188343",
   "metadata": {},
   "source": [
    "$\\color{red}{\\text{insert}}$ \n",
    "```\n",
    "from .. import sub_pkg1\n",
    "print(sub_pkg1)\n",
    "\n",
    "from ..sub_pkg1.mod1 import foo\n",
    "foo()\n",
    "``` \n",
    "$\\color{red}{\\text{into}}$ `pkg/sub__pkg2/mod3.py`"
   ]
  },
  {
   "cell_type": "code",
   "execution_count": 7,
   "id": "376d9321-26a8-4a10-b29e-7879f4ca1900",
   "metadata": {},
   "outputs": [],
   "source": [
    "from pkg.sub_pkg2 import mod3"
   ]
  },
  {
   "cell_type": "code",
   "execution_count": 10,
   "id": "7aaffe31-f3b2-4fd8-9ed9-e7f815566ec1",
   "metadata": {},
   "outputs": [
    {
     "data": {
      "text/plain": [
       "<module 'pkg.sub_pkg2.mod3' from 'W:\\\\Python3\\\\itca_10\\\\pkg\\\\sub_pkg2\\\\mod3.py'>"
      ]
     },
     "execution_count": 10,
     "metadata": {},
     "output_type": "execute_result"
    }
   ],
   "source": [
    "import importlib\n",
    "importlib.reload(mod3)"
   ]
  },
  {
   "cell_type": "code",
   "execution_count": null,
   "id": "a68f8983-c9e0-437a-9b6c-14ef24bf8056",
   "metadata": {},
   "outputs": [],
   "source": []
  }
 ],
 "metadata": {
  "kernelspec": {
   "display_name": "Python 3 (ipykernel)",
   "language": "python",
   "name": "python3"
  },
  "language_info": {
   "codemirror_mode": {
    "name": "ipython",
    "version": 3
   },
   "file_extension": ".py",
   "mimetype": "text/x-python",
   "name": "python",
   "nbconvert_exporter": "python",
   "pygments_lexer": "ipython3",
   "version": "3.12.2"
  }
 },
 "nbformat": 4,
 "nbformat_minor": 5
}
