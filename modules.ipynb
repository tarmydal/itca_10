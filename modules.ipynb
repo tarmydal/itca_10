{
 "cells": [
  {
   "cell_type": "markdown",
   "id": "864a849e-a0a8-4d4c-a914-20c088e78bac",
   "metadata": {
    "jp-MarkdownHeadingCollapsed": true
   },
   "source": [
    "# **The `import` Statement**"
   ]
  },
  {
   "cell_type": "markdown",
   "id": "4fab6da6-525b-4afc-9fc9-22acc1ab3f57",
   "metadata": {
    "jp-MarkdownHeadingCollapsed": true
   },
   "source": [
    "## import `<module_name>`"
   ]
  },
  {
   "cell_type": "code",
   "execution_count": null,
   "id": "1118455d-8c03-44cb-8bb1-385804cb1d01",
   "metadata": {},
   "outputs": [],
   "source": [
    "import mod"
   ]
  },
  {
   "cell_type": "code",
   "execution_count": null,
   "id": "97aaca67-34ee-4b08-a7b2-fa3641174122",
   "metadata": {},
   "outputs": [],
   "source": [
    "mod"
   ]
  },
  {
   "cell_type": "code",
   "execution_count": null,
   "id": "c1fbdf43-df3e-41cc-bfea-e761fd955519",
   "metadata": {},
   "outputs": [],
   "source": [
    "mod.s"
   ]
  },
  {
   "cell_type": "code",
   "execution_count": null,
   "id": "a0bc2abf-59f1-4415-bc95-7cce4b814986",
   "metadata": {},
   "outputs": [],
   "source": [
    "mod.foo('quux')"
   ]
  },
  {
   "cell_type": "markdown",
   "id": "e81e603f-a7e4-48ab-878d-7c67a61bb750",
   "metadata": {
    "jp-MarkdownHeadingCollapsed": true
   },
   "source": [
    "## import `<module_name>` as `<alt_name>`"
   ]
  },
  {
   "cell_type": "code",
   "execution_count": null,
   "id": "c6fb600d-c7fd-4fff-8c2e-042c22fd3bb1",
   "metadata": {},
   "outputs": [],
   "source": [
    "import mod as my_module"
   ]
  },
  {
   "cell_type": "code",
   "execution_count": null,
   "id": "d2a21dba-f024-4f63-abe3-6046e80614cf",
   "metadata": {},
   "outputs": [],
   "source": [
    "my_module.a"
   ]
  },
  {
   "cell_type": "code",
   "execution_count": null,
   "id": "73fda036-6f78-4417-accf-3e5c4f5bf5a5",
   "metadata": {},
   "outputs": [],
   "source": [
    "my_module.foo('qux')"
   ]
  },
  {
   "cell_type": "markdown",
   "id": "075b3636-f833-4f39-8868-7d5ba372422f",
   "metadata": {
    "jp-MarkdownHeadingCollapsed": true
   },
   "source": [
    "## from `<module_name>` import `<name(s)>`"
   ]
  },
  {
   "cell_type": "code",
   "execution_count": null,
   "id": "46c15917-a4fd-45f6-99c2-7a197309502b",
   "metadata": {},
   "outputs": [],
   "source": [
    "from mod import s, foo"
   ]
  },
  {
   "cell_type": "code",
   "execution_count": null,
   "id": "ec9b3ecb-466a-43f1-ace0-45172c734edc",
   "metadata": {},
   "outputs": [],
   "source": [
    "s"
   ]
  },
  {
   "cell_type": "code",
   "execution_count": null,
   "id": "e68281cf-4807-4306-a1ef-0ed1f906bd49",
   "metadata": {},
   "outputs": [],
   "source": [
    "foo('quux')"
   ]
  },
  {
   "cell_type": "markdown",
   "id": "3bb962fe-f1e2-4412-9fc4-345cd9a78c85",
   "metadata": {
    "jp-MarkdownHeadingCollapsed": true
   },
   "source": [
    "## from `<module_name>` import `<name>` as `<alt_name>`"
   ]
  },
  {
   "cell_type": "code",
   "execution_count": null,
   "id": "4dfc6b65-13bb-46d7-b6ea-0fab398c1798",
   "metadata": {},
   "outputs": [],
   "source": [
    "s = 'foo'\n",
    "a = ['foo', 'bar', 'baz']"
   ]
  },
  {
   "cell_type": "code",
   "execution_count": null,
   "id": "623ede9a-d03b-411f-ac3d-ad5a89ffb211",
   "metadata": {},
   "outputs": [],
   "source": [
    "s, a"
   ]
  },
  {
   "cell_type": "code",
   "execution_count": null,
   "id": "d489eb03-299a-4b1f-bf98-660c49edbf10",
   "metadata": {},
   "outputs": [],
   "source": [
    "from mod import s as string, a as alist"
   ]
  },
  {
   "cell_type": "code",
   "execution_count": null,
   "id": "875328ab-624f-4eaa-a648-69a6ac24ec4c",
   "metadata": {},
   "outputs": [],
   "source": [
    "s, string"
   ]
  },
  {
   "cell_type": "code",
   "execution_count": null,
   "id": "036d082c-1ec8-4a52-bc31-c9d935c102dd",
   "metadata": {},
   "outputs": [],
   "source": [
    "a, alist"
   ]
  },
  {
   "cell_type": "markdown",
   "id": "901bbf34-de73-4e8b-bca2-737153ff483e",
   "metadata": {
    "jp-MarkdownHeadingCollapsed": true
   },
   "source": [
    "# **Reloading a Module**"
   ]
  },
  {
   "cell_type": "code",
   "execution_count": null,
   "id": "92d31713-4ea8-488c-8205-3e9d73bffb95",
   "metadata": {},
   "outputs": [],
   "source": [
    "import mod"
   ]
  },
  {
   "cell_type": "code",
   "execution_count": null,
   "id": "b7732940-c2ae-42cd-9b9e-35a902a1353b",
   "metadata": {},
   "outputs": [],
   "source": [
    "import importlib"
   ]
  },
  {
   "cell_type": "code",
   "execution_count": null,
   "id": "7c0a787b-583a-4cf1-b668-76854c3947fd",
   "metadata": {},
   "outputs": [],
   "source": [
    "mm = importlib.reload(mod)"
   ]
  },
  {
   "cell_type": "code",
   "execution_count": null,
   "id": "f0fbd11c-0aa6-46f9-b24a-1cc49837b12a",
   "metadata": {},
   "outputs": [],
   "source": [
    "mm"
   ]
  },
  {
   "cell_type": "markdown",
   "id": "6cf13446-8893-40d2-801f-c9371ad0a7c5",
   "metadata": {
    "jp-MarkdownHeadingCollapsed": true
   },
   "source": [
    "# **The `__name__` Attribute**"
   ]
  },
  {
   "cell_type": "code",
   "execution_count": null,
   "id": "7805b2b7-5022-41a4-9693-3d9ff536cff7",
   "metadata": {},
   "outputs": [],
   "source": []
  },
  {
   "cell_type": "code",
   "execution_count": null,
   "id": "b62a7b22-7a88-4d9b-9f53-13ccba9885c8",
   "metadata": {},
   "outputs": [],
   "source": []
  },
  {
   "cell_type": "markdown",
   "id": "f36faba2-406c-4128-b705-d8b615d21503",
   "metadata": {
    "jp-MarkdownHeadingCollapsed": true
   },
   "source": [
    "# **Conclusion**"
   ]
  },
  {
   "cell_type": "code",
   "execution_count": null,
   "id": "fc3e8073-6a61-4e1d-bb89-7620cd09bdc3",
   "metadata": {},
   "outputs": [],
   "source": [
    "import importlib.util\n",
    "name = 'mod wrong name'\n",
    "if spec := importlib.util.find_spec(name):\n",
    "    module = importlib.util.module_from_spec(spec)\n",
    "    print(f\"{name!r} has been imported\")\n",
    "    spec.loader.exec_module(module)"
   ]
  },
  {
   "cell_type": "code",
   "execution_count": null,
   "id": "da7083c7-df32-454d-b778-6975e5608010",
   "metadata": {},
   "outputs": [],
   "source": [
    "module"
   ]
  },
  {
   "cell_type": "code",
   "execution_count": null,
   "id": "d397d546-7d14-4a2d-82b9-2e13a9b44f19",
   "metadata": {},
   "outputs": [],
   "source": [
    "module.module_name"
   ]
  },
  {
   "cell_type": "code",
   "execution_count": null,
   "id": "d4aa9d3b-a2d1-41da-808e-87cde6a225a9",
   "metadata": {},
   "outputs": [],
   "source": []
  }
 ],
 "metadata": {
  "kernelspec": {
   "display_name": "Python 3 (ipykernel)",
   "language": "python",
   "name": "python3"
  },
  "language_info": {
   "codemirror_mode": {
    "name": "ipython",
    "version": 3
   },
   "file_extension": ".py",
   "mimetype": "text/x-python",
   "name": "python",
   "nbconvert_exporter": "python",
   "pygments_lexer": "ipython3",
   "version": "3.12.2"
  }
 },
 "nbformat": 4,
 "nbformat_minor": 5
}
