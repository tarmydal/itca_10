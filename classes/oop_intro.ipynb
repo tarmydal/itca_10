{
 "cells": [
  {
   "cell_type": "code",
   "execution_count": 1,
   "id": "5200ebe8-d2cb-42ea-870b-20a0974f8b23",
   "metadata": {},
   "outputs": [],
   "source": [
    "car = {\"color\": \"red\", 'max_speed': 200, 'car_type': 'sedan'}"
   ]
  },
  {
   "cell_type": "code",
   "execution_count": 65,
   "id": "c399ba9d-5d26-476b-9174-957d472e90c3",
   "metadata": {},
   "outputs": [],
   "source": [
    "class Vehicle:\n",
    "\n",
    "    count = 0\n",
    "\n",
    "    def __init__(self, color, max_speed, tank):\n",
    "        self.color = color\n",
    "        self.set_max_speed(max_speed)\n",
    "        # self.car_type = car_type\n",
    "        self.tank = tank\n",
    "        # self.count = 0\n",
    "        Vehicle.count += 1\n",
    "\n",
    "    def info(self):\n",
    "        return f\"color: {self.color}, max_speed={self.__max_speed}, tank={self.tank}\"\n",
    "\n",
    "    def set_max_speed(self, max_speed):\n",
    "        if 100 < max_speed < 300:\n",
    "            self.__max_speed = max_speed\n",
    "        else:\n",
    "            print(\"Max_speed value is not correct! \")\n",
    "            self.__max_speed = 100\n",
    "\n",
    "    def get_max_speed(self):\n",
    "        return self.__max_speed\n",
    "\n",
    "    def __call__(self):\n",
    "        print(\"call instance\")"
   ]
  },
  {
   "cell_type": "code",
   "execution_count": 57,
   "id": "e1de5845-dbba-480d-a8d0-b3b90bea5756",
   "metadata": {},
   "outputs": [],
   "source": [
    "class Track(Vehicle):\n",
    "    def __init__(self, color, max_speed, tank, capacity):\n",
    "        # Vehicle.__init__(self, color, max_speed, tank)\n",
    "        super().__init__(color, max_speed, tank)\n",
    "        self.capacity = capacity\n",
    "\n",
    "    def info(self):\n",
    "        return f\"{super().info()}, capacity: {self.capacity}\"\n",
    "   "
   ]
  },
  {
   "cell_type": "code",
   "execution_count": 58,
   "id": "7b7b3ee4-0aa1-4a59-ac6b-63cf792ffd23",
   "metadata": {},
   "outputs": [],
   "source": [
    "track_1 = Track(\"orange\", 120, 200, capacity=40000)"
   ]
  },
  {
   "cell_type": "code",
   "execution_count": 59,
   "id": "bd20d598-3137-4f33-9cb1-2098f193c90d",
   "metadata": {},
   "outputs": [
    {
     "name": "stdout",
     "output_type": "stream",
     "text": [
      "color: orange, max_speed=120, tank=200, capacity: 40000\n"
     ]
    }
   ],
   "source": [
    "print(track_1.info())"
   ]
  },
  {
   "cell_type": "code",
   "execution_count": 66,
   "id": "dfcffabe-40a6-4b19-84a4-61653a9833d6",
   "metadata": {},
   "outputs": [
    {
     "name": "stdout",
     "output_type": "stream",
     "text": [
      "color: red, max_speed=200, tank=50\n"
     ]
    }
   ],
   "source": [
    "car = Vehicle(\"red\", 200, tank=50)\n",
    "print(car.info()) #  Vehicle.info(car)"
   ]
  },
  {
   "cell_type": "code",
   "execution_count": null,
   "id": "98050211-1e03-432c-b141-66866220bea2",
   "metadata": {},
   "outputs": [],
   "source": []
  },
  {
   "cell_type": "code",
   "execution_count": 4,
   "id": "3ed5a871-7547-4f77-86cc-d898683d6fb8",
   "metadata": {},
   "outputs": [
    {
     "data": {
      "text/plain": [
       "(200, 200)"
      ]
     },
     "execution_count": 4,
     "metadata": {},
     "output_type": "execute_result"
    }
   ],
   "source": [
    "car._Vehicle__max_speed, car.get_max_speed()"
   ]
  },
  {
   "cell_type": "code",
   "execution_count": 5,
   "id": "41548c51-9390-4455-8af0-d5f2f54e20cd",
   "metadata": {},
   "outputs": [],
   "source": [
    "car.set_max_speed(220)"
   ]
  },
  {
   "cell_type": "code",
   "execution_count": 6,
   "id": "ef7231c0-7678-4e54-b203-892b0f1018eb",
   "metadata": {},
   "outputs": [
    {
     "name": "stdout",
     "output_type": "stream",
     "text": [
      "red 220 sedan\n"
     ]
    }
   ],
   "source": [
    "car.info()"
   ]
  },
  {
   "cell_type": "code",
   "execution_count": null,
   "id": "3bf9bfc6-9752-4351-ba09-e7d3a2383480",
   "metadata": {},
   "outputs": [],
   "source": []
  },
  {
   "cell_type": "code",
   "execution_count": 7,
   "id": "428e01f8-0158-4d16-85d4-ca662aa54a88",
   "metadata": {},
   "outputs": [],
   "source": [
    "car2 = Vehicle('white', 250, 'cupe')"
   ]
  },
  {
   "cell_type": "code",
   "execution_count": 8,
   "id": "af1a1482-dc63-411a-909b-0c9a85e4235e",
   "metadata": {},
   "outputs": [
    {
     "name": "stdout",
     "output_type": "stream",
     "text": [
      "white 250 cupe\n"
     ]
    }
   ],
   "source": [
    "car2.info()"
   ]
  },
  {
   "cell_type": "code",
   "execution_count": 9,
   "id": "cee420ba-21aa-4956-b46e-d80a466e863d",
   "metadata": {},
   "outputs": [
    {
     "data": {
      "text/plain": [
       "'white'"
      ]
     },
     "execution_count": 9,
     "metadata": {},
     "output_type": "execute_result"
    }
   ],
   "source": [
    "car2.color"
   ]
  },
  {
   "cell_type": "code",
   "execution_count": 63,
   "id": "000ca7d2-a7df-4b48-97fa-a04617d88d7a",
   "metadata": {},
   "outputs": [
    {
     "data": {
      "text/plain": [
       "(3, 2, 3)"
      ]
     },
     "execution_count": 63,
     "metadata": {},
     "output_type": "execute_result"
    }
   ],
   "source": [
    "Vehicle.count, car2.count, car.count"
   ]
  },
  {
   "cell_type": "code",
   "execution_count": 13,
   "id": "507c056d-480f-43aa-a71f-1a3b6352b3c5",
   "metadata": {},
   "outputs": [
    {
     "data": {
      "text/plain": [
       "0"
      ]
     },
     "execution_count": 13,
     "metadata": {},
     "output_type": "execute_result"
    }
   ],
   "source": [
    "car.count = 0\n",
    "car.count"
   ]
  },
  {
   "cell_type": "code",
   "execution_count": 71,
   "id": "3d450282-a770-4eac-9514-04aa287896c5",
   "metadata": {},
   "outputs": [],
   "source": [
    "car3 = Vehicle('blue', 180, 'universal')"
   ]
  },
  {
   "cell_type": "code",
   "execution_count": 73,
   "id": "4660a20c-23ed-4928-8613-ab4ea35b2a99",
   "metadata": {},
   "outputs": [
    {
     "data": {
      "text/plain": [
       "3"
      ]
     },
     "execution_count": 73,
     "metadata": {},
     "output_type": "execute_result"
    }
   ],
   "source": [
    "car3.count"
   ]
  },
  {
   "cell_type": "code",
   "execution_count": 20,
   "id": "9fba7423-b804-4e9b-8d00-ad0602250eef",
   "metadata": {},
   "outputs": [],
   "source": [
    "car.any_attr = \"s;ljkdfhglks\""
   ]
  },
  {
   "cell_type": "code",
   "execution_count": 64,
   "id": "df7cdaaa-570f-4ec8-b539-966a331f9376",
   "metadata": {},
   "outputs": [
    {
     "data": {
      "text/plain": [
       "['_Vehicle__max_speed',\n",
       " '__class__',\n",
       " '__delattr__',\n",
       " '__dict__',\n",
       " '__dir__',\n",
       " '__doc__',\n",
       " '__eq__',\n",
       " '__format__',\n",
       " '__ge__',\n",
       " '__getattribute__',\n",
       " '__getstate__',\n",
       " '__gt__',\n",
       " '__hash__',\n",
       " '__init__',\n",
       " '__init_subclass__',\n",
       " '__le__',\n",
       " '__lt__',\n",
       " '__module__',\n",
       " '__ne__',\n",
       " '__new__',\n",
       " '__reduce__',\n",
       " '__reduce_ex__',\n",
       " '__repr__',\n",
       " '__setattr__',\n",
       " '__sizeof__',\n",
       " '__str__',\n",
       " '__subclasshook__',\n",
       " '__weakref__',\n",
       " 'car_type',\n",
       " 'color',\n",
       " 'count',\n",
       " 'get_max_speed',\n",
       " 'info',\n",
       " 'set_max_speed',\n",
       " 'tank']"
      ]
     },
     "execution_count": 64,
     "metadata": {},
     "output_type": "execute_result"
    }
   ],
   "source": [
    "dir(car2)"
   ]
  },
  {
   "cell_type": "code",
   "execution_count": null,
   "id": "2f60ee88-b96e-4014-868f-22d3a0e795f7",
   "metadata": {},
   "outputs": [],
   "source": [
    "dir(car)"
   ]
  },
  {
   "cell_type": "code",
   "execution_count": 67,
   "id": "011493c5-679a-41ee-b265-4f821cd54ed7",
   "metadata": {},
   "outputs": [
    {
     "name": "stdout",
     "output_type": "stream",
     "text": [
      "call instance\n"
     ]
    }
   ],
   "source": [
    "car()"
   ]
  },
  {
   "cell_type": "code",
   "execution_count": 91,
   "id": "433bd69d-da13-483d-a68b-ce36abb43c84",
   "metadata": {},
   "outputs": [
    {
     "data": {
      "text/plain": [
       "<__main__.Vehicle at 0x258a7459490>"
      ]
     },
     "execution_count": 91,
     "metadata": {},
     "output_type": "execute_result"
    }
   ],
   "source": [
    "car"
   ]
  },
  {
   "cell_type": "code",
   "execution_count": 136,
   "id": "b98f269b-a244-4a1a-8e23-b777285edb85",
   "metadata": {},
   "outputs": [],
   "source": [
    "class Matrix:\n",
    "    def __init__(self, rows, cols):\n",
    "        self._n_rows = rows\n",
    "        self._n_cols = cols\n",
    "        # self.cols = [0] * cols\n",
    "        self._matrix = [[0 for _ in range(cols)] for _ in range(rows)]\n",
    "        # print(self._matrix)\n",
    "\n",
    "    def __call__(self, row, col):\n",
    "        return self._matrix[row][col]\n",
    "\n",
    "    def __repr__(self):\n",
    "        return f\"<Matrix [{self._n_rows} x {self._n_cols}]>\" #''.join(map(\"{}\".format, self._matrix))\n",
    "\n",
    "    def __str__(self):\n",
    "        return ''.join(map(\"{}\".format, self._matrix))\n",
    "\n",
    "    def set_value(self, row, col, value):\n",
    "        if 0 <= row < self._n_rows and 0 <= col < self._n_cols:\n",
    "            self._matrix[row][col] = value\n",
    "\n",
    "    def __getitem__(self, idx):\n",
    "        return self._matrix[idx[0]][idx[1]]\n",
    "        # else:\n",
    "        #     raise Exception(\"Index error\")\n",
    "\n",
    "    def __setitem__(self, idx, value):\n",
    "        self._matrix[idx[0]][idx[1]] = value"
   ]
  },
  {
   "cell_type": "code",
   "execution_count": 137,
   "id": "d64a119b-6067-4619-817d-ca82131d7955",
   "metadata": {},
   "outputs": [
    {
     "data": {
      "text/plain": [
       "[0, 0, 0, 0, 0, 0, 0, 0, 0, 0]"
      ]
     },
     "execution_count": 137,
     "metadata": {},
     "output_type": "execute_result"
    }
   ],
   "source": [
    "[0] * 10"
   ]
  },
  {
   "cell_type": "code",
   "execution_count": 138,
   "id": "50e54308-9e32-4c87-9419-748b1e765c36",
   "metadata": {},
   "outputs": [],
   "source": [
    "m = Matrix(10, 10)"
   ]
  },
  {
   "cell_type": "code",
   "execution_count": 139,
   "id": "0390b1c8-2126-4006-867a-e7b385e2f0b5",
   "metadata": {},
   "outputs": [
    {
     "data": {
      "text/plain": [
       "100"
      ]
     },
     "execution_count": 139,
     "metadata": {},
     "output_type": "execute_result"
    }
   ],
   "source": [
    "m.set_value(5, 6, 100)\n",
    "m(5, 6)"
   ]
  },
  {
   "cell_type": "code",
   "execution_count": 141,
   "id": "b3612d31-b561-485d-ac3a-56330638b24e",
   "metadata": {},
   "outputs": [],
   "source": [
    "m[3, 4] = 10"
   ]
  },
  {
   "cell_type": "code",
   "execution_count": 142,
   "id": "722782f1-3a66-4078-89bf-5ca557e4886b",
   "metadata": {},
   "outputs": [
    {
     "data": {
      "text/plain": [
       "10"
      ]
     },
     "execution_count": 142,
     "metadata": {},
     "output_type": "execute_result"
    }
   ],
   "source": [
    "m[3, 4]"
   ]
  },
  {
   "cell_type": "code",
   "execution_count": 104,
   "id": "853c3a04-61b2-4be4-b1e2-9e0c2fc63f21",
   "metadata": {},
   "outputs": [
    {
     "name": "stdout",
     "output_type": "stream",
     "text": [
      "[0, 0, 0, 0, 0, 0, 100, 0, 0, 0][0, 0, 0, 0, 0, 0, 100, 0, 0, 0][0, 0, 0, 0, 0, 0, 100, 0, 0, 0][0, 0, 0, 0, 0, 0, 100, 0, 0, 0][0, 0, 0, 0, 0, 0, 100, 0, 0, 0][0, 0, 0, 0, 0, 0, 100, 0, 0, 0][0, 0, 0, 0, 0, 0, 100, 0, 0, 0][0, 0, 0, 0, 0, 0, 100, 0, 0, 0][0, 0, 0, 0, 0, 0, 100, 0, 0, 0][0, 0, 0, 0, 0, 0, 100, 0, 0, 0]\n"
     ]
    }
   ],
   "source": [
    "print(m)"
   ]
  },
  {
   "cell_type": "code",
   "execution_count": 117,
   "id": "b557f369-a61f-4c89-9910-0d676048d829",
   "metadata": {},
   "outputs": [],
   "source": [
    "class My_list(list):\n",
    "    def __init__(self, elements):\n",
    "        self.__count = elements\n",
    "        self.__lst = [i+1 for i in range(elements)]\n",
    "\n",
    "    def __repr__(self):\n",
    "        pass\n",
    "\n",
    "    def __str__(self):\n",
    "        return str(self.__lst)\n",
    "\n",
    "    def __getitem__(self, idx):\n",
    "        if 0 < idx < self.__count+1:\n",
    "            return self.__lst[idx-1]\n",
    "        else:\n",
    "            raise Exception(\"Index error\")\n",
    "\n",
    "    def __setitem__(self, idx, value):\n",
    "        self.__lst[idx-1] = value"
   ]
  },
  {
   "cell_type": "code",
   "execution_count": 118,
   "id": "cdd7bd89-8e36-4585-a2d2-335d66a482ba",
   "metadata": {},
   "outputs": [
    {
     "data": {
      "text/plain": [
       "(1, 10)"
      ]
     },
     "execution_count": 118,
     "metadata": {},
     "output_type": "execute_result"
    }
   ],
   "source": [
    "my_l = My_list(10)\n",
    "my_l[1], my_l[10]"
   ]
  },
  {
   "cell_type": "code",
   "execution_count": 119,
   "id": "71f6430a-d1bd-48b8-ac9b-043a3e1730f5",
   "metadata": {},
   "outputs": [],
   "source": [
    "my_l[1] = 100"
   ]
  },
  {
   "cell_type": "code",
   "execution_count": 120,
   "id": "e78a9751-f1cc-4f57-a31f-a617864db3f0",
   "metadata": {},
   "outputs": [
    {
     "name": "stdout",
     "output_type": "stream",
     "text": [
      "[100, 2, 3, 4, 5, 6, 7, 8, 9, 10]\n"
     ]
    }
   ],
   "source": [
    "print(my_l)"
   ]
  },
  {
   "cell_type": "code",
   "execution_count": null,
   "id": "1dfb1ad2-b10a-410c-9165-90dbab8ede28",
   "metadata": {},
   "outputs": [],
   "source": []
  }
 ],
 "metadata": {
  "kernelspec": {
   "display_name": "Python 3 (ipykernel)",
   "language": "python",
   "name": "python3"
  },
  "language_info": {
   "codemirror_mode": {
    "name": "ipython",
    "version": 3
   },
   "file_extension": ".py",
   "mimetype": "text/x-python",
   "name": "python",
   "nbconvert_exporter": "python",
   "pygments_lexer": "ipython3",
   "version": "3.12.2"
  }
 },
 "nbformat": 4,
 "nbformat_minor": 5
}
