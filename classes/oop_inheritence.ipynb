{
 "cells": [
  {
   "cell_type": "code",
   "execution_count": 27,
   "id": "a4ead2fd-30ce-4afc-9e30-063c5d1c808e",
   "metadata": {},
   "outputs": [],
   "source": [
    "class A:\n",
    "    def m(self):\n",
    "        print(\"m of A called\")\n",
    "\n",
    "class B(A):\n",
    "    def m(self):\n",
    "        print(\"m of B called\")\n",
    "        A().m()\n",
    "    \n",
    "class C(A):\n",
    "    def m(self):\n",
    "        print(\"m of C called\")\n",
    "        super().m()\n",
    "\n",
    "class D(B, C):\n",
    "    def m(self):\n",
    "        print(\"m of D called\")\n",
    "        super().m()"
   ]
  },
  {
   "cell_type": "code",
   "execution_count": 26,
   "id": "66facd0d-973c-437d-a065-5e9019db9ef8",
   "metadata": {},
   "outputs": [
    {
     "name": "stdout",
     "output_type": "stream",
     "text": [
      "m of D called\n",
      "m of B called\n",
      "m of A called\n"
     ]
    }
   ],
   "source": [
    "d = D()\n",
    "d.m()"
   ]
  },
  {
   "cell_type": "code",
   "execution_count": 18,
   "id": "9302f996-b178-4742-875f-37f34c840044",
   "metadata": {},
   "outputs": [
    {
     "data": {
      "text/plain": [
       "([__main__.D, __main__.B, __main__.C, __main__.A, object],\n",
       " (__main__.D, __main__.B, __main__.C, __main__.A, object))"
      ]
     },
     "execution_count": 18,
     "metadata": {},
     "output_type": "execute_result"
    }
   ],
   "source": [
    "D.mro(), D.__mro__"
   ]
  },
  {
   "cell_type": "code",
   "execution_count": 19,
   "id": "f5dc0292-b2cf-48c3-b8ec-71d35de18f36",
   "metadata": {},
   "outputs": [
    {
     "name": "stdout",
     "output_type": "stream",
     "text": [
      "m of B called\n",
      "m of A called\n"
     ]
    }
   ],
   "source": [
    "b = B()\n",
    "b.m()"
   ]
  },
  {
   "cell_type": "code",
   "execution_count": 20,
   "id": "239feb4a-796b-46db-8230-701f571fc9c3",
   "metadata": {},
   "outputs": [
    {
     "data": {
      "text/plain": [
       "[__main__.B, __main__.A, object]"
      ]
     },
     "execution_count": 20,
     "metadata": {},
     "output_type": "execute_result"
    }
   ],
   "source": [
    "B.mro()"
   ]
  },
  {
   "cell_type": "code",
   "execution_count": null,
   "id": "19359b20-2e9f-4cc6-833e-6c7e0a679083",
   "metadata": {},
   "outputs": [],
   "source": []
  }
 ],
 "metadata": {
  "kernelspec": {
   "display_name": "Python 3 (ipykernel)",
   "language": "python",
   "name": "python3"
  },
  "language_info": {
   "codemirror_mode": {
    "name": "ipython",
    "version": 3
   },
   "file_extension": ".py",
   "mimetype": "text/x-python",
   "name": "python",
   "nbconvert_exporter": "python",
   "pygments_lexer": "ipython3",
   "version": "3.12.2"
  }
 },
 "nbformat": 4,
 "nbformat_minor": 5
}
